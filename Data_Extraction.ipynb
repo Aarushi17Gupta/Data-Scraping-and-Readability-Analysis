{
 "cells": [
  {
   "cell_type": "code",
   "execution_count": 1,
   "id": "56205fcd",
   "metadata": {},
   "outputs": [],
   "source": [
    "#importing the relevent libraries\n",
    "import numpy as np\n",
    "import pandas as pd\n",
    "import urllib.request\n",
    "import bs4\n",
    "import requests\n",
    "import warnings\n",
    "warnings.filterwarnings('ignore')"
   ]
  },
  {
   "cell_type": "code",
   "execution_count": 3,
   "id": "eacf5f9c",
   "metadata": {},
   "outputs": [
    {
     "data": {
      "text/html": [
       "<div>\n",
       "<style scoped>\n",
       "    .dataframe tbody tr th:only-of-type {\n",
       "        vertical-align: middle;\n",
       "    }\n",
       "\n",
       "    .dataframe tbody tr th {\n",
       "        vertical-align: top;\n",
       "    }\n",
       "\n",
       "    .dataframe thead th {\n",
       "        text-align: right;\n",
       "    }\n",
       "</style>\n",
       "<table border=\"1\" class=\"dataframe\">\n",
       "  <thead>\n",
       "    <tr style=\"text-align: right;\">\n",
       "      <th></th>\n",
       "      <th>URL_ID</th>\n",
       "      <th>URL</th>\n",
       "    </tr>\n",
       "  </thead>\n",
       "  <tbody>\n",
       "    <tr>\n",
       "      <th>0</th>\n",
       "      <td>1.0</td>\n",
       "      <td>https://insights.blackcoffer.com/how-is-login-...</td>\n",
       "    </tr>\n",
       "    <tr>\n",
       "      <th>1</th>\n",
       "      <td>2.0</td>\n",
       "      <td>https://insights.blackcoffer.com/how-does-ai-h...</td>\n",
       "    </tr>\n",
       "    <tr>\n",
       "      <th>2</th>\n",
       "      <td>3.0</td>\n",
       "      <td>https://insights.blackcoffer.com/ai-and-its-im...</td>\n",
       "    </tr>\n",
       "    <tr>\n",
       "      <th>3</th>\n",
       "      <td>4.0</td>\n",
       "      <td>https://insights.blackcoffer.com/how-do-deep-l...</td>\n",
       "    </tr>\n",
       "    <tr>\n",
       "      <th>4</th>\n",
       "      <td>5.0</td>\n",
       "      <td>https://insights.blackcoffer.com/how-artificia...</td>\n",
       "    </tr>\n",
       "  </tbody>\n",
       "</table>\n",
       "</div>"
      ],
      "text/plain": [
       "   URL_ID                                                URL\n",
       "0     1.0  https://insights.blackcoffer.com/how-is-login-...\n",
       "1     2.0  https://insights.blackcoffer.com/how-does-ai-h...\n",
       "2     3.0  https://insights.blackcoffer.com/ai-and-its-im...\n",
       "3     4.0  https://insights.blackcoffer.com/how-do-deep-l...\n",
       "4     5.0  https://insights.blackcoffer.com/how-artificia..."
      ]
     },
     "execution_count": 3,
     "metadata": {},
     "output_type": "execute_result"
    }
   ],
   "source": [
    "#loading the input excel file using pandas\n",
    "df_urls = pd.read_excel(\"Input.xlsx\")\n",
    "df_urls.head()"
   ]
  },
  {
   "cell_type": "code",
   "execution_count": 4,
   "id": "2becfc4d",
   "metadata": {},
   "outputs": [
    {
     "data": {
      "text/plain": [
       "(170, 2)"
      ]
     },
     "execution_count": 4,
     "metadata": {},
     "output_type": "execute_result"
    }
   ],
   "source": [
    "#checking the shape of the data files\n",
    "df_urls.shape"
   ]
  },
  {
   "cell_type": "code",
   "execution_count": 5,
   "id": "d942c0d3",
   "metadata": {
    "scrolled": true
   },
   "outputs": [
    {
     "data": {
      "text/plain": [
       "URL_ID    float64\n",
       "URL        object\n",
       "dtype: object"
      ]
     },
     "execution_count": 5,
     "metadata": {},
     "output_type": "execute_result"
    }
   ],
   "source": [
    "#checking the data types of the columns \n",
    "df_urls.dtypes"
   ]
  },
  {
   "cell_type": "code",
   "execution_count": 6,
   "id": "4a314827",
   "metadata": {},
   "outputs": [
    {
     "data": {
      "text/html": [
       "<div>\n",
       "<style scoped>\n",
       "    .dataframe tbody tr th:only-of-type {\n",
       "        vertical-align: middle;\n",
       "    }\n",
       "\n",
       "    .dataframe tbody tr th {\n",
       "        vertical-align: top;\n",
       "    }\n",
       "\n",
       "    .dataframe thead th {\n",
       "        text-align: right;\n",
       "    }\n",
       "</style>\n",
       "<table border=\"1\" class=\"dataframe\">\n",
       "  <thead>\n",
       "    <tr style=\"text-align: right;\">\n",
       "      <th></th>\n",
       "      <th>URL_ID</th>\n",
       "      <th>URL</th>\n",
       "    </tr>\n",
       "  </thead>\n",
       "  <tbody>\n",
       "    <tr>\n",
       "      <th>0</th>\n",
       "      <td>1.0</td>\n",
       "      <td>https://insights.blackcoffer.com/how-is-login-...</td>\n",
       "    </tr>\n",
       "    <tr>\n",
       "      <th>1</th>\n",
       "      <td>2.0</td>\n",
       "      <td>https://insights.blackcoffer.com/how-does-ai-h...</td>\n",
       "    </tr>\n",
       "    <tr>\n",
       "      <th>2</th>\n",
       "      <td>3.0</td>\n",
       "      <td>https://insights.blackcoffer.com/ai-and-its-im...</td>\n",
       "    </tr>\n",
       "    <tr>\n",
       "      <th>3</th>\n",
       "      <td>4.0</td>\n",
       "      <td>https://insights.blackcoffer.com/how-do-deep-l...</td>\n",
       "    </tr>\n",
       "    <tr>\n",
       "      <th>4</th>\n",
       "      <td>5.0</td>\n",
       "      <td>https://insights.blackcoffer.com/how-artificia...</td>\n",
       "    </tr>\n",
       "  </tbody>\n",
       "</table>\n",
       "</div>"
      ],
      "text/plain": [
       "  URL_ID                                                URL\n",
       "0    1.0  https://insights.blackcoffer.com/how-is-login-...\n",
       "1    2.0  https://insights.blackcoffer.com/how-does-ai-h...\n",
       "2    3.0  https://insights.blackcoffer.com/ai-and-its-im...\n",
       "3    4.0  https://insights.blackcoffer.com/how-do-deep-l...\n",
       "4    5.0  https://insights.blackcoffer.com/how-artificia..."
      ]
     },
     "execution_count": 6,
     "metadata": {},
     "output_type": "execute_result"
    }
   ],
   "source": [
    "#since url_id is in float type- converting it into string\n",
    "df_urls['URL_ID'] = df_urls['URL_ID'].astype(str)\n",
    "df_urls.head()"
   ]
  },
  {
   "cell_type": "code",
   "execution_count": 9,
   "id": "791fd83d",
   "metadata": {},
   "outputs": [],
   "source": [
    "df_urls['URL_ID']  = df_urls['URL_ID'].apply(lambda x : x.rstrip('0').rstrip('.'))"
   ]
  },
  {
   "cell_type": "code",
   "execution_count": 13,
   "id": "3730df05",
   "metadata": {},
   "outputs": [
    {
     "data": {
      "text/html": [
       "<div>\n",
       "<style scoped>\n",
       "    .dataframe tbody tr th:only-of-type {\n",
       "        vertical-align: middle;\n",
       "    }\n",
       "\n",
       "    .dataframe tbody tr th {\n",
       "        vertical-align: top;\n",
       "    }\n",
       "\n",
       "    .dataframe thead th {\n",
       "        text-align: right;\n",
       "    }\n",
       "</style>\n",
       "<table border=\"1\" class=\"dataframe\">\n",
       "  <thead>\n",
       "    <tr style=\"text-align: right;\">\n",
       "      <th></th>\n",
       "      <th>URL_ID</th>\n",
       "      <th>URL</th>\n",
       "    </tr>\n",
       "  </thead>\n",
       "  <tbody>\n",
       "    <tr>\n",
       "      <th>0</th>\n",
       "      <td>1</td>\n",
       "      <td>https://insights.blackcoffer.com/how-is-login-...</td>\n",
       "    </tr>\n",
       "    <tr>\n",
       "      <th>1</th>\n",
       "      <td>2</td>\n",
       "      <td>https://insights.blackcoffer.com/how-does-ai-h...</td>\n",
       "    </tr>\n",
       "    <tr>\n",
       "      <th>2</th>\n",
       "      <td>3</td>\n",
       "      <td>https://insights.blackcoffer.com/ai-and-its-im...</td>\n",
       "    </tr>\n",
       "    <tr>\n",
       "      <th>3</th>\n",
       "      <td>4</td>\n",
       "      <td>https://insights.blackcoffer.com/how-do-deep-l...</td>\n",
       "    </tr>\n",
       "    <tr>\n",
       "      <th>4</th>\n",
       "      <td>5</td>\n",
       "      <td>https://insights.blackcoffer.com/how-artificia...</td>\n",
       "    </tr>\n",
       "  </tbody>\n",
       "</table>\n",
       "</div>"
      ],
      "text/plain": [
       "  URL_ID                                                URL\n",
       "0      1  https://insights.blackcoffer.com/how-is-login-...\n",
       "1      2  https://insights.blackcoffer.com/how-does-ai-h...\n",
       "2      3  https://insights.blackcoffer.com/ai-and-its-im...\n",
       "3      4  https://insights.blackcoffer.com/how-do-deep-l...\n",
       "4      5  https://insights.blackcoffer.com/how-artificia..."
      ]
     },
     "execution_count": 13,
     "metadata": {},
     "output_type": "execute_result"
    }
   ],
   "source": [
    "df_urls.head()"
   ]
  },
  {
   "cell_type": "code",
   "execution_count": 14,
   "id": "410054ee",
   "metadata": {},
   "outputs": [],
   "source": [
    "#Making the function for title and article text extraction from the given lists of urls\n",
    "def extraction(x,y):\n",
    "    #using beautiful soup for text extraction\n",
    "    url=x\n",
    "    headers = {\n",
    "    'User-Agent': 'Mozilla/5.0 (Macintosh; Intel Mac OS X 10.12; rv:55.0) Gecko/20100101 Firefox/55.0',\n",
    "    }\n",
    "    r = requests.get(url, headers=headers)\n",
    "    soup = bs4.BeautifulSoup(r.text, 'html.parser')\n",
    "    text = soup.find_all(text=True)\n",
    "    set([t.parent.name for t in text])\n",
    "    output = ''4\n",
    "     #listing the categories which are not required for this project\n",
    "    blacklist = ['[document]',\n",
    "                 'a',\n",
    "                 'article',\n",
    "                 'aside',\n",
    "                 'button',\n",
    "                  'body',\n",
    "                 'div',\n",
    "                 'figcaption',\n",
    "                 'footer',\n",
    "                'form',\n",
    "                 'h1',\n",
    "                 'head',\n",
    "                 'header',\n",
    "                 'html',\n",
    "                 'li',\n",
    "                 'link',\n",
    "                 'meta',\n",
    "                 'pre',\n",
    "                 'script',\n",
    "                 'span',\n",
    "                 'strong',\n",
    "                 'style',\n",
    "                 'time',\n",
    "                 'ul']\n",
    "    for t in text:\n",
    "        if t.parent.name not in blacklist:\n",
    "            output += '{} \\n'.format(t)\n",
    "    \n",
    "    URL_ID = y\n",
    "    x='%s'%(URL_ID)\n",
    "    f = open(x + \".txt\", \"w\", encoding=\"utf-8\")\n",
    "    n = f.write(output)\n",
    "\n",
    "    f.close()"
   ]
  },
  {
   "cell_type": "code",
   "execution_count": 15,
   "id": "07966ee1",
   "metadata": {},
   "outputs": [
    {
     "data": {
      "text/plain": [
       "0      None\n",
       "1      None\n",
       "2      None\n",
       "3      None\n",
       "4      None\n",
       "       ... \n",
       "165    None\n",
       "166    None\n",
       "167    None\n",
       "168    None\n",
       "169    None\n",
       "Length: 170, dtype: object"
      ]
     },
     "execution_count": 15,
     "metadata": {},
     "output_type": "execute_result"
    }
   ],
   "source": [
    "# mapping the above function for all the urls(under URl column) for text extraction\n",
    "df_urls[['URL','URL_ID']].apply(lambda x: extraction(*x), axis=1)"
   ]
  },
  {
   "cell_type": "code",
   "execution_count": null,
   "id": "9ef19556",
   "metadata": {},
   "outputs": [],
   "source": []
  }
 ],
 "metadata": {
  "kernelspec": {
   "display_name": "Python 3 (ipykernel)",
   "language": "python",
   "name": "python3"
  },
  "language_info": {
   "codemirror_mode": {
    "name": "ipython",
    "version": 3
   },
   "file_extension": ".py",
   "mimetype": "text/x-python",
   "name": "python",
   "nbconvert_exporter": "python",
   "pygments_lexer": "ipython3",
   "version": "3.9.7"
  }
 },
 "nbformat": 4,
 "nbformat_minor": 5
}
